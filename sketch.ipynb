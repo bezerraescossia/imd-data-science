{
 "cells": [
  {
   "cell_type": "code",
   "execution_count": 2,
   "metadata": {},
   "outputs": [],
   "source": [
    "import pandas as pd\n",
    "log = pd.read_csv('data/log.csv')"
   ]
  },
  {
   "cell_type": "code",
   "execution_count": 3,
   "metadata": {},
   "outputs": [
    {
     "data": {
      "text/html": [
       "<div>\n",
       "<style scoped>\n",
       "    .dataframe tbody tr th:only-of-type {\n",
       "        vertical-align: middle;\n",
       "    }\n",
       "\n",
       "    .dataframe tbody tr th {\n",
       "        vertical-align: top;\n",
       "    }\n",
       "\n",
       "    .dataframe thead th {\n",
       "        text-align: right;\n",
       "    }\n",
       "</style>\n",
       "<table border=\"1\" class=\"dataframe\">\n",
       "  <thead>\n",
       "    <tr style=\"text-align: right;\">\n",
       "      <th></th>\n",
       "      <th>filename</th>\n",
       "      <th>data</th>\n",
       "      <th>municipio</th>\n",
       "      <th>estado</th>\n",
       "      <th>remedio</th>\n",
       "      <th>texto</th>\n",
       "    </tr>\n",
       "  </thead>\n",
       "  <tbody>\n",
       "    <tr>\n",
       "      <th>0</th>\n",
       "      <td>4168749af2f8f997880e29e4096ba5e6ba1ad62d.txt.txt</td>\n",
       "      <td>2020-06-22T01:35:29Z</td>\n",
       "      <td>Rio de Janeiro</td>\n",
       "      <td>Rio de Janeiro</td>\n",
       "      <td>ivermectina</td>\n",
       "      <td>CMP 102 65050809304 ITRACONAZOL 100MG CAPSULA ...</td>\n",
       "    </tr>\n",
       "    <tr>\n",
       "      <th>1</th>\n",
       "      <td>6e3f63b1c3114efeceeb85535d4f0c65d520ad99.txt.txt</td>\n",
       "      <td>2021-11-29T00:15:10Z</td>\n",
       "      <td>Rio de Janeiro</td>\n",
       "      <td>Rio de Janeiro</td>\n",
       "      <td>ivermectina</td>\n",
       "      <td>VALOR TOTAL ADJUDICADO: 2.701.918,8308ITEM CÓD...</td>\n",
       "    </tr>\n",
       "    <tr>\n",
       "      <th>2</th>\n",
       "      <td>d4bebd4c02f541118eea9f36989f5526592eba8f.txt.txt</td>\n",
       "      <td>2020-11-18T03:53:22Z</td>\n",
       "      <td>Rio de Janeiro</td>\n",
       "      <td>Rio de Janeiro</td>\n",
       "      <td>ivermectina</td>\n",
       "      <td>CMP 102 65050809304 ITRACONAZOL 100MG CAPSULA ...</td>\n",
       "    </tr>\n",
       "    <tr>\n",
       "      <th>3</th>\n",
       "      <td>3b53fc8cec7d0b92c6130efdf59db042e4a256c2.txt.txt</td>\n",
       "      <td>2021-07-21T04:10:08Z</td>\n",
       "      <td>Rio de Janeiro</td>\n",
       "      <td>Rio de Janeiro</td>\n",
       "      <td>ivermectina</td>\n",
       "      <td>ITEM: 40DESCRIÇÃO: IVERMECTINADESCRIÇÃO COMPLE...</td>\n",
       "    </tr>\n",
       "    <tr>\n",
       "      <th>4</th>\n",
       "      <td>cf6b2743f4f0721c3f09484bebab6d75c45a4d87.txt.txt</td>\n",
       "      <td>2020-08-01T07:58:25Z</td>\n",
       "      <td>Rio de Janeiro</td>\n",
       "      <td>Rio de Janeiro</td>\n",
       "      <td>ivermectina</td>\n",
       "      <td>CMP 102 65050809304 ITRACONAZOL 100MG CAPSULA ...</td>\n",
       "    </tr>\n",
       "  </tbody>\n",
       "</table>\n",
       "</div>"
      ],
      "text/plain": [
       "                                           filename                  data  \\\n",
       "0  4168749af2f8f997880e29e4096ba5e6ba1ad62d.txt.txt  2020-06-22T01:35:29Z   \n",
       "1  6e3f63b1c3114efeceeb85535d4f0c65d520ad99.txt.txt  2021-11-29T00:15:10Z   \n",
       "2  d4bebd4c02f541118eea9f36989f5526592eba8f.txt.txt  2020-11-18T03:53:22Z   \n",
       "3  3b53fc8cec7d0b92c6130efdf59db042e4a256c2.txt.txt  2021-07-21T04:10:08Z   \n",
       "4  cf6b2743f4f0721c3f09484bebab6d75c45a4d87.txt.txt  2020-08-01T07:58:25Z   \n",
       "\n",
       "        municipio          estado      remedio  \\\n",
       "0  Rio de Janeiro  Rio de Janeiro  ivermectina   \n",
       "1  Rio de Janeiro  Rio de Janeiro  ivermectina   \n",
       "2  Rio de Janeiro  Rio de Janeiro  ivermectina   \n",
       "3  Rio de Janeiro  Rio de Janeiro  ivermectina   \n",
       "4  Rio de Janeiro  Rio de Janeiro  ivermectina   \n",
       "\n",
       "                                               texto  \n",
       "0  CMP 102 65050809304 ITRACONAZOL 100MG CAPSULA ...  \n",
       "1  VALOR TOTAL ADJUDICADO: 2.701.918,8308ITEM CÓD...  \n",
       "2  CMP 102 65050809304 ITRACONAZOL 100MG CAPSULA ...  \n",
       "3  ITEM: 40DESCRIÇÃO: IVERMECTINADESCRIÇÃO COMPLE...  \n",
       "4  CMP 102 65050809304 ITRACONAZOL 100MG CAPSULA ...  "
      ]
     },
     "execution_count": 3,
     "metadata": {},
     "output_type": "execute_result"
    }
   ],
   "source": [
    "log.head()"
   ]
  },
  {
   "cell_type": "code",
   "execution_count": 4,
   "metadata": {},
   "outputs": [
    {
     "data": {
      "text/html": [
       "<div>\n",
       "<style scoped>\n",
       "    .dataframe tbody tr th:only-of-type {\n",
       "        vertical-align: middle;\n",
       "    }\n",
       "\n",
       "    .dataframe tbody tr th {\n",
       "        vertical-align: top;\n",
       "    }\n",
       "\n",
       "    .dataframe thead th {\n",
       "        text-align: right;\n",
       "    }\n",
       "</style>\n",
       "<table border=\"1\" class=\"dataframe\">\n",
       "  <thead>\n",
       "    <tr style=\"text-align: right;\">\n",
       "      <th></th>\n",
       "      <th>texto</th>\n",
       "    </tr>\n",
       "  </thead>\n",
       "  <tbody>\n",
       "    <tr>\n",
       "      <th>0</th>\n",
       "      <td>JOSÉ EGÍDIO DE SANTANAPRESIDENTE/COPELDISPENSA...</td>\n",
       "    </tr>\n",
       "    <tr>\n",
       "      <th>1</th>\n",
       "      <td>RA-TIFICO O ENTENDIMENTO EXPOSTO NO PARECER RE...</td>\n",
       "    </tr>\n",
       "    <tr>\n",
       "      <th>2</th>\n",
       "      <td>DISPENSO O PROCEDIMENTO LICITATÓRIO, COM BASE ...</td>\n",
       "    </tr>\n",
       "    <tr>\n",
       "      <th>3</th>\n",
       "      <td>IRANIZO MATOS RODRIGUESPREGOEIROPORTARIA Nº 13...</td>\n",
       "    </tr>\n",
       "    <tr>\n",
       "      <th>4</th>\n",
       "      <td>ANKE HELGA SCHWABE, NO USO DE SUAS ATRIBUIÇÕES...</td>\n",
       "    </tr>\n",
       "  </tbody>\n",
       "</table>\n",
       "</div>"
      ],
      "text/plain": [
       "                                               texto\n",
       "0  JOSÉ EGÍDIO DE SANTANAPRESIDENTE/COPELDISPENSA...\n",
       "1  RA-TIFICO O ENTENDIMENTO EXPOSTO NO PARECER RE...\n",
       "2  DISPENSO O PROCEDIMENTO LICITATÓRIO, COM BASE ...\n",
       "3  IRANIZO MATOS RODRIGUESPREGOEIROPORTARIA Nº 13...\n",
       "4  ANKE HELGA SCHWABE, NO USO DE SUAS ATRIBUIÇÕES..."
      ]
     },
     "execution_count": 4,
     "metadata": {},
     "output_type": "execute_result"
    }
   ],
   "source": [
    "ml = pd.read_csv('data/ml.csv')\n",
    "ml.head()"
   ]
  },
  {
   "cell_type": "code",
   "execution_count": 4,
   "metadata": {},
   "outputs": [
    {
     "data": {
      "text/plain": [
       "(786, 6)"
      ]
     },
     "execution_count": 4,
     "metadata": {},
     "output_type": "execute_result"
    }
   ],
   "source": [
    "df = pd.read_csv('data/log.csv')\n",
    "df.shape"
   ]
  },
  {
   "cell_type": "code",
   "execution_count": 3,
   "metadata": {},
   "outputs": [
    {
     "data": {
      "text/plain": [
       "(305, 6)"
      ]
     },
     "execution_count": 3,
     "metadata": {},
     "output_type": "execute_result"
    }
   ],
   "source": [
    "import pandas as pd\n",
    "df = pd.read_csv('data/log.csv')\n",
    "df = df[df['texto'].str.contains('COVID') | df['texto'].str.contains('CORONA') | df['texto'].str.contains('PANDEMIA')].reset_index(drop=True)\n",
    "df.shape"
   ]
  },
  {
   "cell_type": "code",
   "execution_count": null,
   "metadata": {},
   "outputs": [],
   "source": []
  }
 ],
 "metadata": {
  "interpreter": {
   "hash": "0e77d2c488c6c33ff258297a40c0630c6f7a04ffe182702a2024da22539e74c5"
  },
  "kernelspec": {
   "display_name": "Python 3.10.1 64-bit ('.venv': venv)",
   "language": "python",
   "name": "python3"
  },
  "language_info": {
   "codemirror_mode": {
    "name": "ipython",
    "version": 3
   },
   "file_extension": ".py",
   "mimetype": "text/x-python",
   "name": "python",
   "nbconvert_exporter": "python",
   "pygments_lexer": "ipython3",
   "version": "3.10.1"
  },
  "orig_nbformat": 4
 },
 "nbformat": 4,
 "nbformat_minor": 2
}
