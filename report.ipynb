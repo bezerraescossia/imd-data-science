{
 "cells": [
  {
   "cell_type": "markdown",
   "id": "8824377f-845c-4596-a0cf-ccbf74e539e1",
   "metadata": {},
   "source": [
    "# Importações e Configurações"
   ]
  },
  {
   "cell_type": "code",
   "execution_count": 30,
   "id": "b9e68414-e88b-4271-ba2e-8dc3a93e9982",
   "metadata": {},
   "outputs": [],
   "source": [
    "import os\n",
    "from os import listdir\n",
    "import pandas as pd\n",
    "import glob\n",
    "import seaborn as sns\n",
    "from querido_diario_toolbox import Gazette\n",
    "from querido_diario_toolbox.etl.text_extractor import create_text_extractor\n",
    "config = {\"apache_tika_jar\": \"tika-app-1.24.1.jar\"}\n",
    "extrator = create_text_extractor(config)"
   ]
  },
  {
   "cell_type": "markdown",
   "id": "513cda44-4438-47f2-993b-323690d7ee3e",
   "metadata": {},
   "source": [
    "# Extraindo .txt e metadados de todos os PDFs"
   ]
  },
  {
   "cell_type": "code",
   "execution_count": 21,
   "id": "98e56046-077c-4485-96e3-4fd7a974cb37",
   "metadata": {},
   "outputs": [],
   "source": [
    "# Extraindo .txt\n",
    "\n",
    "for file in glob.glob(os.path.join('data/pdf', '*.pdf')):\n",
    "    with open(filepath) as f:\n",
    "        diario = Gazette(filepath=file)\n",
    "        extrator.extract_text(diario)"
   ]
  },
  {
   "cell_type": "code",
   "execution_count": 6,
   "id": "f97ac916-70de-4a78-9b0d-8593ed0d9614",
   "metadata": {},
   "outputs": [],
   "source": [
    "# Extraindo metadados\n",
    "\n",
    "for file in glob.glob(os.path.join('data/pdf', '*.pdf')):\n",
    "    with open(file) as f:\n",
    "        diario = Gazette(filepath=file)\n",
    "        extrator.extract_metadata(diario)"
   ]
  },
  {
   "cell_type": "markdown",
   "id": "c33e1b72-10d3-4076-8455-d9cb6260abd2",
   "metadata": {
    "tags": []
   },
   "source": [
    "# Encontrando Palavras Chaves"
   ]
  },
  {
   "cell_type": "code",
   "execution_count": 24,
   "id": "24525e34-9fc2-422d-a42e-98192e6c513d",
   "metadata": {},
   "outputs": [],
   "source": [
    "with open ('log.csv', 'w') as csv:\n",
    "    csv.write('filename,data,numero_de_paginas,remedio\\n')\n",
    "    for filename in listdir(\"data/txt/\"):\n",
    "        with open('./data/txt/' + filename) as currentFile:\n",
    "            text = currentFile.read().upper()\n",
    "            if 'IVERMECTINA' in text:\n",
    "                with open('data/metadados/' + filename[:-4] + '.json') as json:\n",
    "                    text = json.read()\n",
    "                    csv.write(filename + ',' + text[764:774] + ',' + text[-4:-1] + ',' +'ivermectina\\n')\n",
    "                    \n",
    "with open ('log.csv', 'a') as csv:\n",
    "    for filename in listdir(\"data/txt/\"):\n",
    "        with open('./data/txt/' + filename) as currentFile:\n",
    "            text = currentFile.read().upper()\n",
    "            if 'CLOROQUINA' in text:\n",
    "                with open('data/metadados/' + filename[:-4] + '.json') as json:\n",
    "                    text = json.read()\n",
    "                    csv.write(filename + ',' + text[764:774] + ',' + text[-4:-2] + ',' + 'cloroquina\\n')\n",
    "                    \n",
    "with open ('log.csv', 'a') as csv:\n",
    "    for filename in listdir(\"data/txt/\"):\n",
    "        with open('./data/txt/' + filename) as currentFile:\n",
    "            text = currentFile.read().upper()\n",
    "            if 'HIDROXICLOROQUINA' in text:\n",
    "                with open('data/metadados/' + filename[:-4] + '.json') as json:\n",
    "                    text = json.read()\n",
    "                    csv.write(filename + ',' + text[764:774] + ',' + text[-4:-2] + ',' + 'hidroxicloroquina\\n')\n",
    "                    \n",
    "with open ('log.csv', 'a') as csv:\n",
    "    for filename in listdir(\"data/txt/\"):\n",
    "        with open('./data/txt/' + filename) as currentFile:\n",
    "            text = currentFile.read().upper()\n",
    "            if 'AZITROMICINA' in text:\n",
    "                with open('data/metadados/' + filename[:-4] + '.json') as json:\n",
    "                    text = json.read()\n",
    "                    csv.write(filename + ',' + text[764:774] + ',' + text[-4:-2] + ',' + 'azitromicina\\n')"
   ]
  },
  {
   "cell_type": "markdown",
   "id": "b3409497-10fa-4d3c-b024-5b7fe1add19c",
   "metadata": {},
   "source": [
    "# Limpeza dos Dados"
   ]
  },
  {
   "cell_type": "code",
   "execution_count": 27,
   "id": "435bb785-0784-424b-93c7-f81fc2aa8e17",
   "metadata": {},
   "outputs": [
    {
     "data": {
      "text/html": [
       "<div>\n",
       "<style scoped>\n",
       "    .dataframe tbody tr th:only-of-type {\n",
       "        vertical-align: middle;\n",
       "    }\n",
       "\n",
       "    .dataframe tbody tr th {\n",
       "        vertical-align: top;\n",
       "    }\n",
       "\n",
       "    .dataframe thead th {\n",
       "        text-align: right;\n",
       "    }\n",
       "</style>\n",
       "<table border=\"1\" class=\"dataframe\">\n",
       "  <thead>\n",
       "    <tr style=\"text-align: right;\">\n",
       "      <th></th>\n",
       "      <th>filename</th>\n",
       "      <th>data</th>\n",
       "      <th>numero_de_paginas</th>\n",
       "      <th>remedio</th>\n",
       "    </tr>\n",
       "  </thead>\n",
       "  <tbody>\n",
       "    <tr>\n",
       "      <th>0</th>\n",
       "      <td>ac31977044429805a0890d3ca5201c977c34da26.txt</td>\n",
       "      <td>2021-03-24</td>\n",
       "      <td>6</td>\n",
       "      <td>ivermectina</td>\n",
       "    </tr>\n",
       "    <tr>\n",
       "      <th>1</th>\n",
       "      <td>01d1497fc1495386ca18321c12da47987c565c46.txt</td>\n",
       "      <td>2021-03-17</td>\n",
       "      <td>22\"</td>\n",
       "      <td>ivermectina</td>\n",
       "    </tr>\n",
       "    <tr>\n",
       "      <th>2</th>\n",
       "      <td>5edd79c785aee1fab5cd91c291dd4be26d239126.txt</td>\n",
       "      <td>2020-07-31</td>\n",
       "      <td>16\"</td>\n",
       "      <td>ivermectina</td>\n",
       "    </tr>\n",
       "    <tr>\n",
       "      <th>3</th>\n",
       "      <td>58dc77d00476c8c637c22e36b831ebd9ece8d5d3.txt</td>\n",
       "      <td>2021-02-04</td>\n",
       "      <td>13\"</td>\n",
       "      <td>ivermectina</td>\n",
       "    </tr>\n",
       "    <tr>\n",
       "      <th>4</th>\n",
       "      <td>5edd79c785aee1fab5cd91c291dd4be26d239126.txt</td>\n",
       "      <td>2020-07-31</td>\n",
       "      <td>16</td>\n",
       "      <td>cloroquina</td>\n",
       "    </tr>\n",
       "    <tr>\n",
       "      <th>5</th>\n",
       "      <td>5edd79c785aee1fab5cd91c291dd4be26d239126.txt</td>\n",
       "      <td>2020-07-31</td>\n",
       "      <td>16</td>\n",
       "      <td>hidroxicloroquina</td>\n",
       "    </tr>\n",
       "    <tr>\n",
       "      <th>6</th>\n",
       "      <td>69f549f8877a49f378cd03b0fd6ed240f15ef2c7.txt</td>\n",
       "      <td>2020-07-27</td>\n",
       "      <td>11</td>\n",
       "      <td>azitromicina</td>\n",
       "    </tr>\n",
       "    <tr>\n",
       "      <th>7</th>\n",
       "      <td>5edd79c785aee1fab5cd91c291dd4be26d239126.txt</td>\n",
       "      <td>2020-07-31</td>\n",
       "      <td>16</td>\n",
       "      <td>azitromicina</td>\n",
       "    </tr>\n",
       "  </tbody>\n",
       "</table>\n",
       "</div>"
      ],
      "text/plain": [
       "                                       filename        data numero_de_paginas  \\\n",
       "0  ac31977044429805a0890d3ca5201c977c34da26.txt  2021-03-24                 6   \n",
       "1  01d1497fc1495386ca18321c12da47987c565c46.txt  2021-03-17               22\"   \n",
       "2  5edd79c785aee1fab5cd91c291dd4be26d239126.txt  2020-07-31               16\"   \n",
       "3  58dc77d00476c8c637c22e36b831ebd9ece8d5d3.txt  2021-02-04               13\"   \n",
       "4  5edd79c785aee1fab5cd91c291dd4be26d239126.txt  2020-07-31                16   \n",
       "5  5edd79c785aee1fab5cd91c291dd4be26d239126.txt  2020-07-31                16   \n",
       "6  69f549f8877a49f378cd03b0fd6ed240f15ef2c7.txt  2020-07-27                11   \n",
       "7  5edd79c785aee1fab5cd91c291dd4be26d239126.txt  2020-07-31                16   \n",
       "\n",
       "             remedio  \n",
       "0        ivermectina  \n",
       "1        ivermectina  \n",
       "2        ivermectina  \n",
       "3        ivermectina  \n",
       "4         cloroquina  \n",
       "5  hidroxicloroquina  \n",
       "6       azitromicina  \n",
       "7       azitromicina  "
      ]
     },
     "execution_count": 27,
     "metadata": {},
     "output_type": "execute_result"
    }
   ],
   "source": [
    "# Observe no arquivo log.csv que a coluna numero_de_paginas está com aspas duplas em algumas colunas\n",
    "df = pd.read_csv('log.csv')\n",
    "df"
   ]
  },
  {
   "cell_type": "code",
   "execution_count": 29,
   "id": "a73b7042-4f37-42d8-8ecf-82cdb0172165",
   "metadata": {},
   "outputs": [
    {
     "data": {
      "text/html": [
       "<div>\n",
       "<style scoped>\n",
       "    .dataframe tbody tr th:only-of-type {\n",
       "        vertical-align: middle;\n",
       "    }\n",
       "\n",
       "    .dataframe tbody tr th {\n",
       "        vertical-align: top;\n",
       "    }\n",
       "\n",
       "    .dataframe thead th {\n",
       "        text-align: right;\n",
       "    }\n",
       "</style>\n",
       "<table border=\"1\" class=\"dataframe\">\n",
       "  <thead>\n",
       "    <tr style=\"text-align: right;\">\n",
       "      <th></th>\n",
       "      <th>filename</th>\n",
       "      <th>data</th>\n",
       "      <th>numero_de_paginas</th>\n",
       "      <th>remedio</th>\n",
       "    </tr>\n",
       "  </thead>\n",
       "  <tbody>\n",
       "    <tr>\n",
       "      <th>0</th>\n",
       "      <td>ac31977044429805a0890d3ca5201c977c34da26.txt</td>\n",
       "      <td>2021-03-24</td>\n",
       "      <td>6</td>\n",
       "      <td>ivermectina</td>\n",
       "    </tr>\n",
       "    <tr>\n",
       "      <th>1</th>\n",
       "      <td>01d1497fc1495386ca18321c12da47987c565c46.txt</td>\n",
       "      <td>2021-03-17</td>\n",
       "      <td>22</td>\n",
       "      <td>ivermectina</td>\n",
       "    </tr>\n",
       "    <tr>\n",
       "      <th>2</th>\n",
       "      <td>5edd79c785aee1fab5cd91c291dd4be26d239126.txt</td>\n",
       "      <td>2020-07-31</td>\n",
       "      <td>16</td>\n",
       "      <td>ivermectina</td>\n",
       "    </tr>\n",
       "    <tr>\n",
       "      <th>3</th>\n",
       "      <td>58dc77d00476c8c637c22e36b831ebd9ece8d5d3.txt</td>\n",
       "      <td>2021-02-04</td>\n",
       "      <td>13</td>\n",
       "      <td>ivermectina</td>\n",
       "    </tr>\n",
       "    <tr>\n",
       "      <th>4</th>\n",
       "      <td>5edd79c785aee1fab5cd91c291dd4be26d239126.txt</td>\n",
       "      <td>2020-07-31</td>\n",
       "      <td>16</td>\n",
       "      <td>cloroquina</td>\n",
       "    </tr>\n",
       "    <tr>\n",
       "      <th>5</th>\n",
       "      <td>5edd79c785aee1fab5cd91c291dd4be26d239126.txt</td>\n",
       "      <td>2020-07-31</td>\n",
       "      <td>16</td>\n",
       "      <td>hidroxicloroquina</td>\n",
       "    </tr>\n",
       "    <tr>\n",
       "      <th>6</th>\n",
       "      <td>69f549f8877a49f378cd03b0fd6ed240f15ef2c7.txt</td>\n",
       "      <td>2020-07-27</td>\n",
       "      <td>11</td>\n",
       "      <td>azitromicina</td>\n",
       "    </tr>\n",
       "    <tr>\n",
       "      <th>7</th>\n",
       "      <td>5edd79c785aee1fab5cd91c291dd4be26d239126.txt</td>\n",
       "      <td>2020-07-31</td>\n",
       "      <td>16</td>\n",
       "      <td>azitromicina</td>\n",
       "    </tr>\n",
       "  </tbody>\n",
       "</table>\n",
       "</div>"
      ],
      "text/plain": [
       "                                       filename        data numero_de_paginas  \\\n",
       "0  ac31977044429805a0890d3ca5201c977c34da26.txt  2021-03-24                 6   \n",
       "1  01d1497fc1495386ca18321c12da47987c565c46.txt  2021-03-17                22   \n",
       "2  5edd79c785aee1fab5cd91c291dd4be26d239126.txt  2020-07-31                16   \n",
       "3  58dc77d00476c8c637c22e36b831ebd9ece8d5d3.txt  2021-02-04                13   \n",
       "4  5edd79c785aee1fab5cd91c291dd4be26d239126.txt  2020-07-31                16   \n",
       "5  5edd79c785aee1fab5cd91c291dd4be26d239126.txt  2020-07-31                16   \n",
       "6  69f549f8877a49f378cd03b0fd6ed240f15ef2c7.txt  2020-07-27                11   \n",
       "7  5edd79c785aee1fab5cd91c291dd4be26d239126.txt  2020-07-31                16   \n",
       "\n",
       "             remedio  \n",
       "0        ivermectina  \n",
       "1        ivermectina  \n",
       "2        ivermectina  \n",
       "3        ivermectina  \n",
       "4         cloroquina  \n",
       "5  hidroxicloroquina  \n",
       "6       azitromicina  \n",
       "7       azitromicina  "
      ]
     },
     "execution_count": 29,
     "metadata": {},
     "output_type": "execute_result"
    }
   ],
   "source": [
    "df['numero_de_paginas'] = df['numero_de_paginas'].str.replace('\"', '')\n",
    "df"
   ]
  },
  {
   "cell_type": "markdown",
   "id": "0a428e28-373c-42d6-9836-49ef6be87e3e",
   "metadata": {},
   "source": [
    "# Visualização dos Dados"
   ]
  },
  {
   "cell_type": "code",
   "execution_count": 39,
   "id": "8073021d-06a8-41c6-b971-db945866cf83",
   "metadata": {},
   "outputs": [
    {
     "data": {
      "text/plain": [
       "[Text(0, 0, '4'), Text(0, 0, '1'), Text(0, 0, '1'), Text(0, 0, '2')]"
      ]
     },
     "execution_count": 39,
     "metadata": {},
     "output_type": "execute_result"
    },
    {
     "data": {
      "image/png": "[encoded data removed]",
      "text/plain": [
       "<Figure size 1440x576 with 1 Axes>"
      ]
     },
     "metadata": {},
     "output_type": "display_data"
    }
   ],
   "source": [
    "# Quantas vezes cada medicamente não eficaz aparece em diários oficiais?\n",
    "sns.set_theme(style = 'whitegrid')\n",
    "sns.set(rc={'figure.figsize':(20,8)})\n",
    "ax = sns.countplot(x = 'remedio', data = df, palette = 'pastel')\n",
    "ax.set_title('Menções a remédios não eficazes durante a pandemia', fontsize=20, pad=20)\n",
    "ax.bar_label(ax.containers[0])"
   ]
  },
  {
   "cell_type": "code",
   "execution_count": null,
   "id": "e8c01c30-4f4e-45e0-b1b1-c1a85c5d11f8",
   "metadata": {},
   "outputs": [],
   "source": []
  }
 ],
 "metadata": {
  "kernelspec": {
   "display_name": "Python 3",
   "language": "python",
   "name": "python3"
  },
  "language_info": {
   "codemirror_mode": {
    "name": "ipython",
    "version": 3
   },
   "file_extension": ".py",
   "mimetype": "text/x-python",
   "name": "python",
   "nbconvert_exporter": "python",
   "pygments_lexer": "ipython3",
   "version": "3.9.5"
  }
 },
 "nbformat": 4,
 "nbformat_minor": 5
}
