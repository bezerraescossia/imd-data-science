{
 "cells": [
  {
   "cell_type": "markdown",
   "id": "8824377f-845c-4596-a0cf-ccbf74e539e1",
   "metadata": {},
   "source": [
    "# Importações e Configurações"
   ]
  },
  {
   "cell_type": "code",
   "execution_count": 2,
   "id": "b9e68414-e88b-4271-ba2e-8dc3a93e9982",
   "metadata": {},
   "outputs": [],
   "source": [
    "import os\n",
    "import glob\n",
    "from querido_diario_toolbox import Gazette\n",
    "from querido_diario_toolbox.etl.text_extractor import create_text_extractor\n",
    "config = {\"apache_tika_jar\": \"tika-app-1.24.1.jar\"}\n",
    "extrator = create_text_extractor(config)"
   ]
  },
  {
   "cell_type": "markdown",
   "id": "513cda44-4438-47f2-993b-323690d7ee3e",
   "metadata": {},
   "source": [
    "# Extraindo .txt e metadados de todos os PDFs"
   ]
  },
  {
   "cell_type": "code",
   "execution_count": null,
   "id": "b1327c9e-559f-4f53-b071-1660eb76f3f1",
   "metadata": {},
   "outputs": [],
   "source": [
    "scrapy crawl sc_florianopolis -a start_date=2020-09-01"
   ]
  },
  {
   "cell_type": "code",
   "execution_count": 5,
   "id": "6068102c-52d2-4cbc-8c0e-eefdc66638fc",
   "metadata": {},
   "outputs": [],
   "source": [
    "!find ./data/pdfs -name '*.pdf' -exec mv -t . {} +"
   ]
  },
  {
   "cell_type": "code",
   "execution_count": 21,
   "id": "98e56046-077c-4485-96e3-4fd7a974cb37",
   "metadata": {},
   "outputs": [],
   "source": [
    "# Extraindo .txt\n",
    "\n",
    "for file in glob.glob(os.path.join('data/pdf', '*.pdf')):\n",
    "    with open(filepath) as f:\n",
    "        diario = Gazette(filepath=file)\n",
    "        extrator.extract_text(diario)"
   ]
  },
  {
   "cell_type": "code",
   "execution_count": 6,
   "id": "f97ac916-70de-4a78-9b0d-8593ed0d9614",
   "metadata": {},
   "outputs": [],
   "source": [
    "# Extraindo metadados\n",
    "\n",
    "for file in glob.glob(os.path.join('data/pdf', '*.pdf')):\n",
    "    with open(file) as f:\n",
    "        diario = Gazette(filepath=file)\n",
    "        extrator.extract_metadata(diario)"
   ]
  },
  {
   "cell_type": "markdown",
   "id": "c33e1b72-10d3-4076-8455-d9cb6260abd2",
   "metadata": {},
   "source": [
    "# Encontrando Palavras Chaves"
   ]
  },
  {
   "cell_type": "code",
   "execution_count": 15,
   "id": "2cffd8a0-32c8-4090-b5af-325ad1ffea0c",
   "metadata": {},
   "outputs": [],
   "source": [
    "from os import listdir\n",
    "\n",
    "with open(\"./ivermectina.txt\", \"w\") as f:\n",
    "    for filename in listdir(\"data/txt/\"):\n",
    "        with open('./data/txt/' + filename) as currentFile:\n",
    "            text = currentFile.read()\n",
    "            if ('ivermectina' in text) or ('Ivermectina' in text) or ('IVERMECTINA' in text):\n",
    "                f.write(filename[:-4] + '\\n')\n",
    "            else:\n",
    "                continue"
   ]
  },
  {
   "cell_type": "code",
   "execution_count": 17,
   "id": "cccaad0a-9aef-47ce-94e1-c8c426ab8eb4",
   "metadata": {},
   "outputs": [],
   "source": [
    "from os import listdir\n",
    "\n",
    "with open(\"./cloroquina.txt\", \"w\") as f:\n",
    "    for filename in listdir(\"data/txt/\"):\n",
    "        with open('./data/txt/' + filename) as currentFile:\n",
    "            text = currentFile.read()\n",
    "            if ('cloroquina' in text) or ('Cloroquina' in text) or ('CLOROQUINA' in text) or ('hidroxicloroquina' in text) or ('Hidroxicloroquina' in text) or ('HIDROXICLOROQUINA' in text):\n",
    "                f.write(filename[:-4] + '\\n')\n",
    "            else:\n",
    "                continue"
   ]
  },
  {
   "cell_type": "code",
   "execution_count": 18,
   "id": "b5fb4c61-ea64-4ec7-8228-09a1984803f4",
   "metadata": {},
   "outputs": [],
   "source": [
    "from os import listdir\n",
    "\n",
    "with open(\"./azitromicina.txt\", \"w\") as f:\n",
    "    for filename in listdir(\"data/txt/\"):\n",
    "        with open('./data/txt/' + filename) as currentFile:\n",
    "            text = currentFile.read()\n",
    "            if ('azitromicina' in text) or ('Azitromicina' in text) or ('AZITROMICINA' in text):\n",
    "                f.write(filename[:-4] + '\\n')\n",
    "            else:\n",
    "                continue"
   ]
  },
  {
   "cell_type": "code",
   "execution_count": 19,
   "id": "84cd176c-665a-4b37-8f12-40d6f4ebaee2",
   "metadata": {},
   "outputs": [],
   "source": [
    "from os import listdir\n",
    "\n",
    "with open(\"./nitazoxanida.txt\", \"w\") as f:\n",
    "    for filename in listdir(\"data/txt/\"):\n",
    "        with open('./data/txt/' + filename) as currentFile:\n",
    "            text = currentFile.read()\n",
    "            if ('nitazoxanida' in text) or ('Nitazoxanida' in text) or ('NITAZOXANIDA' in text):\n",
    "                f.write(filename[:-4] + '\\n')\n",
    "            else:\n",
    "                continue"
   ]
  },
  {
   "cell_type": "code",
   "execution_count": null,
   "id": "0fc20a50-3c8d-4581-a0d7-3a529029e315",
   "metadata": {},
   "outputs": [],
   "source": [
    "for file in glob.glob(os.path.join('data/all', '*.txt')):\n",
    "    with open(filepath) as f:\n",
    "        if 'ozonioterapia' in f.read():\n",
    "            print(\"true\")"
   ]
  },
  {
   "cell_type": "code",
   "execution_count": null,
   "id": "876c1b98-09cc-42cf-8870-eeceef05b42b",
   "metadata": {},
   "outputs": [],
   "source": [
    "for file in glob.glob(os.path.join('data/all', '*.txt')):\n",
    "    with open(filepath) as f:\n",
    "        if 'tamiflu' in f.read():\n",
    "            print(\"true\")"
   ]
  }
 ],
 "metadata": {
  "kernelspec": {
   "display_name": "Python 3",
   "language": "python",
   "name": "python3"
  },
  "language_info": {
   "codemirror_mode": {
    "name": "ipython",
    "version": 3
   },
   "file_extension": ".py",
   "mimetype": "text/x-python",
   "name": "python",
   "nbconvert_exporter": "python",
   "pygments_lexer": "ipython3",
   "version": "3.9.5"
  }
 },
 "nbformat": 4,
 "nbformat_minor": 5
}
