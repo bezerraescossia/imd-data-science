{
 "cells": [
  {
   "cell_type": "code",
   "execution_count": 2,
   "metadata": {},
   "outputs": [
    {
     "data": {
      "text/html": [
       "<div>\n",
       "<style scoped>\n",
       "    .dataframe tbody tr th:only-of-type {\n",
       "        vertical-align: middle;\n",
       "    }\n",
       "\n",
       "    .dataframe tbody tr th {\n",
       "        vertical-align: top;\n",
       "    }\n",
       "\n",
       "    .dataframe thead th {\n",
       "        text-align: right;\n",
       "    }\n",
       "</style>\n",
       "<table border=\"1\" class=\"dataframe\">\n",
       "  <thead>\n",
       "    <tr style=\"text-align: right;\">\n",
       "      <th></th>\n",
       "      <th>filename</th>\n",
       "      <th>texto</th>\n",
       "    </tr>\n",
       "  </thead>\n",
       "  <tbody>\n",
       "    <tr>\n",
       "      <th>0</th>\n",
       "      <td>4168749af2f8f997880e29e4096ba5e6ba1ad62d.txt.txt</td>\n",
       "      <td>CMP 102 65050809304 ITRACONAZOL 100MG CAPSULA ...</td>\n",
       "    </tr>\n",
       "    <tr>\n",
       "      <th>1</th>\n",
       "      <td>6e3f63b1c3114efeceeb85535d4f0c65d520ad99.txt.txt</td>\n",
       "      <td>VALOR TOTAL ADJUDICADO: 2.701.918,8308ITEM CÓD...</td>\n",
       "    </tr>\n",
       "    <tr>\n",
       "      <th>2</th>\n",
       "      <td>d4bebd4c02f541118eea9f36989f5526592eba8f.txt.txt</td>\n",
       "      <td>CMP 102 65050809304 ITRACONAZOL 100MG CAPSULA ...</td>\n",
       "    </tr>\n",
       "    <tr>\n",
       "      <th>3</th>\n",
       "      <td>3b53fc8cec7d0b92c6130efdf59db042e4a256c2.txt.txt</td>\n",
       "      <td>ITEM: 40DESCRIÇÃO: IVERMECTINADESCRIÇÃO COMPLE...</td>\n",
       "    </tr>\n",
       "    <tr>\n",
       "      <th>4</th>\n",
       "      <td>cf6b2743f4f0721c3f09484bebab6d75c45a4d87.txt.txt</td>\n",
       "      <td>CMP 102 65050809304 ITRACONAZOL 100MG CAPSULA ...</td>\n",
       "    </tr>\n",
       "  </tbody>\n",
       "</table>\n",
       "</div>"
      ],
      "text/plain": [
       "                                           filename  \\\n",
       "0  4168749af2f8f997880e29e4096ba5e6ba1ad62d.txt.txt   \n",
       "1  6e3f63b1c3114efeceeb85535d4f0c65d520ad99.txt.txt   \n",
       "2  d4bebd4c02f541118eea9f36989f5526592eba8f.txt.txt   \n",
       "3  3b53fc8cec7d0b92c6130efdf59db042e4a256c2.txt.txt   \n",
       "4  cf6b2743f4f0721c3f09484bebab6d75c45a4d87.txt.txt   \n",
       "\n",
       "                                               texto  \n",
       "0  CMP 102 65050809304 ITRACONAZOL 100MG CAPSULA ...  \n",
       "1  VALOR TOTAL ADJUDICADO: 2.701.918,8308ITEM CÓD...  \n",
       "2  CMP 102 65050809304 ITRACONAZOL 100MG CAPSULA ...  \n",
       "3  ITEM: 40DESCRIÇÃO: IVERMECTINADESCRIÇÃO COMPLE...  \n",
       "4  CMP 102 65050809304 ITRACONAZOL 100MG CAPSULA ...  "
      ]
     },
     "execution_count": 2,
     "metadata": {},
     "output_type": "execute_result"
    }
   ],
   "source": [
    "import pandas as pd\n",
    "\n",
    "df = pd.read_csv('data/ml.csv')\n",
    "df.head()"
   ]
  },
  {
   "cell_type": "code",
   "execution_count": 16,
   "metadata": {},
   "outputs": [],
   "source": [
    "df[df['texto'].str.contains('COVID') | df['texto'].str.contains('CORONA') | df['texto'].str.contains('PANDEMIA')].reset_index(drop=True).to_csv('data/ml.csv', index=False)"
   ]
  },
  {
   "cell_type": "code",
   "execution_count": null,
   "metadata": {},
   "outputs": [],
   "source": []
  }
 ],
 "metadata": {
  "interpreter": {
   "hash": "0e77d2c488c6c33ff258297a40c0630c6f7a04ffe182702a2024da22539e74c5"
  },
  "kernelspec": {
   "display_name": "Python 3.10.1 64-bit ('.venv': venv)",
   "language": "python",
   "name": "python3"
  },
  "language_info": {
   "name": "python",
   "version": "3.10.1"
  },
  "orig_nbformat": 4
 },
 "nbformat": 4,
 "nbformat_minor": 2
}
