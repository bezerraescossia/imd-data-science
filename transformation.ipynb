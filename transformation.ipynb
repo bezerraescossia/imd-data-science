{
 "cells": [
  {
   "cell_type": "markdown",
   "metadata": {},
   "source": [
    "# Transformação .pdf para .txt e .json"
   ]
  },
  {
   "cell_type": "code",
   "execution_count": null,
   "metadata": {},
   "outputs": [],
   "source": [
    "# Importações e Configurações\n",
    "import os\n",
    "import shutil\n",
    "from os import listdir\n",
    "from querido_diario_toolbox import Gazette\n",
    "from querido_diario_toolbox.etl.text_extractor import create_text_extractor\n",
    "config = {\"apache_tika_jar\": \"tika-app-1.24.1.jar\"}\n",
    "extrator = create_text_extractor(config)"
   ]
  },
  {
   "cell_type": "code",
   "execution_count": null,
   "metadata": {},
   "outputs": [],
   "source": [
    "# Extraindo .txt\n",
    "for folder in listdir(\"data_raw\"):\n",
    "    os.mkdir(os.path.join('data_raw', folder, 'txt'))\n",
    "    for file in listdir(os.path.join('data_raw', folder, 'pdfs')):\n",
    "        if (file[:-4] + '.txt') not in listdir(os.path.join('data_raw', folder, 'txt')):\n",
    "            try:\n",
    "                with open(os.path.join('data_raw', folder, 'pdfs', file)) as f:\n",
    "                    diario = Gazette(filepath=os.path.join('data_raw', folder, 'pdfs', file))\n",
    "                    extrator.extract_text(diario)\n",
    "                shutil.move(os.path.join('data_raw', folder, 'pdfs', file[:-4]) + '.txt', os.path.join('data_raw', folder, 'txt', file[:-4]) + '.txt')\n",
    "            except:\n",
    "                continue"
   ]
  },
  {
   "cell_type": "code",
   "execution_count": null,
   "metadata": {},
   "outputs": [],
   "source": [
    "# Extraindo metadados\n",
    "for folder in listdir(\"data_raw\"):\n",
    "    os.mkdir(os.path.join('data_raw', folder, 'json'))\n",
    "    for file in listdir(os.path.join('data_raw', folder, 'pdfs')):\n",
    "        if (file[:-4] + '.json') not in listdir(os.path.join('data_raw', folder, 'json')):\n",
    "            try:\n",
    "                with open(os.path.join('data_raw', folder, 'pdfs', file)) as f:\n",
    "                    diario = Gazette(filepath=os.path.join('data_raw', folder, 'pdfs', file))\n",
    "                    extrator.extract_metadata(diario)\n",
    "                shutil.move(os.path.join('data_raw', folder, 'pdfs', file[:-4]) + '.json', os.path.join('data_raw', folder, 'json', file[:-4]) + '.json')\n",
    "            except:\n",
    "                continue"
   ]
  },
  {
   "cell_type": "markdown",
   "metadata": {},
   "source": [
    "# Filtro de Palavras-chaves e estruturação dos dados"
   ]
  },
  {
   "cell_type": "code",
   "execution_count": null,
   "metadata": {},
   "outputs": [],
   "source": [
    "## Ivermectina\n",
    "with open ('data/log.csv', 'w') as csv:\n",
    "    csv.write('filename;cod_ibge_municipio;cod_ibge_estado;data;texto;remedio\\n')\n",
    "    for folder in listdir(\"data_raw\"):\n",
    "        for file in listdir(os.path.join('data_raw', folder, 'txt')):\n",
    "            with open(os.path.join('data_raw', folder, 'txt', file)) as currentFile:\n",
    "                text = currentFile.read().upper()\n",
    "                if 'IVERMECTINA' in text:\n",
    "                    with open(os.path.join('data_raw', folder, 'json', file[:-4]) + '.json') as js:\n",
    "                        tokens = nltk.sent_tokenize(text)\n",
    "                        for token in tokens:\n",
    "                            token.replace(',', ' ')\n",
    "                            token.replace('\\n', ' ')\n",
    "                            try:\n",
    "                                if 'IVERMECTINA' in token:\n",
    "                                    text = json.loads(js.read())\n",
    "                                    csv.write(file + ';' + folder + ';' + folder[:2] + ';' + text['date'] + ';' + token +';' +'ivermectina\\n')\n",
    "                            \n",
    "                            except:\n",
    "                                if 'IVERMECTINA' in token:\n",
    "                                    csv.write(file + ';' + folder + ';' + folder[:2] + ';' + 'Não Informado' + ';' + token + ';' +'ivermectina\\n')"
   ]
  },
  {
   "cell_type": "code",
   "execution_count": null,
   "metadata": {},
   "outputs": [],
   "source": [
    "## Cloroquina\n",
    "with open ('data/log.csv', 'a') as csv:\n",
    "    for folder in listdir(\"data_raw\"):\n",
    "        for file in listdir(os.path.join('data_raw', folder, 'txt')):\n",
    "            with open(os.path.join('data_raw', folder, 'txt', file)) as currentFile:\n",
    "                text = currentFile.read().upper()\n",
    "                if 'CLOROQUINA' in text:\n",
    "                    with open(os.path.join('data_raw', folder, 'json', file[:-4]) + '.json') as js:\n",
    "                        tokens = nltk.sent_tokenize(text)\n",
    "                        for token in tokens:\n",
    "                            token.replace(',', ' ')\n",
    "                            token.replace('\\n', ' ')\n",
    "                            try:\n",
    "                                if 'CLOROQUINA' in token:\n",
    "                                    text = json.loads(js.read())\n",
    "                                    csv.write(file + ';' + folder + ';' + folder[:2] + ';' + text['date'] + ';' + token + ';' +'cloroquina\\n')\n",
    "                            except:\n",
    "                                if 'CLOROQUINA' in token:\n",
    "                                    csv.write(file + ';' + folder + ';' + folder[:2] + ';' + 'Não Informado' + ';' + token + ';' +'cloroquina\\n')\n"
   ]
  },
  {
   "cell_type": "code",
   "execution_count": null,
   "metadata": {},
   "outputs": [],
   "source": [
    "## Hidroxicloroquina\n",
    "with open ('data/log.csv', 'a') as csv:\n",
    "    for folder in listdir(\"data_raw\"):\n",
    "        for file in listdir(os.path.join('data_raw', folder, 'txt')):\n",
    "            with open(os.path.join('data_raw', folder, 'txt', file)) as currentFile:\n",
    "                text = currentFile.read().upper()\n",
    "                if 'HIDROXICLOROQUINA' in text:\n",
    "                    with open(os.path.join('data_raw', folder, 'json', file[:-4]) + '.json') as js:\n",
    "                        tokens = nltk.sent_tokenize(text)\n",
    "                        for token in tokens:\n",
    "                            token.replace(',', ' ')\n",
    "                            token.replace('\\n', ' ')\n",
    "                            try:\n",
    "                                if 'HIDROXICLOROQUINA' in token:\n",
    "                                    text = json.loads(js.read())\n",
    "                                    csv.write(file + ';' + folder + ';' + folder[:2] + ';' + text['date'] + ';' + token + ';' +'hidroxicloroquina\\n')\n",
    "                            \n",
    "                            except:\n",
    "                                if 'HIDROXICLOROQUINA' in token:\n",
    "                                    csv.write(file + ';' + folder + ';' + folder[:2] + ';' + 'Não Informado' + ';' + token + ';' +'hidroxicloroquina\\n')\n"
   ]
  },
  {
   "cell_type": "code",
   "execution_count": null,
   "metadata": {},
   "outputs": [],
   "source": [
    "## Azitromicina\n",
    "with open ('data/log.csv', 'a') as csv:\n",
    "    for folder in listdir(\"data_raw\"):\n",
    "        for file in listdir(os.path.join('data_raw', folder, 'txt')):\n",
    "            with open(os.path.join('data_raw', folder, 'txt', file)) as currentFile:\n",
    "                text = currentFile.read().upper()\n",
    "                if 'HIDROXICLOROQUINA' in text:\n",
    "                    with open(os.path.join('data_raw', folder, 'json', file[:-4]) + '.json') as js:\n",
    "                        tokens = nltk.sent_tokenize(text)\n",
    "                        for token in tokens:\n",
    "                            token.replace(',', ' ')\n",
    "                            token.replace('\\n', ' ')\n",
    "                            try:\n",
    "                                if 'AZITROMICINA' in token:\n",
    "                                    text = json.loads(js.read())\n",
    "                                    csv.write(file + ';' + folder + ';' + folder[:2] + ';' + text['date'] + ';' + token + ';' +'azitromicina\\n')\n",
    "                            \n",
    "                            except:\n",
    "                                if 'AZITROMICINA' in token:\n",
    "                                    csv.write(file + ';' + folder + ';' + folder[:2] + ';' + 'Não Informado' + ';' + token + ';' +'azitromicina\\n')\n"
   ]
  },
  {
   "cell_type": "markdown",
   "metadata": {},
   "source": [
    "# Substituição dos códigos por seus nomes"
   ]
  },
  {
   "cell_type": "code",
   "execution_count": null,
   "metadata": {},
   "outputs": [],
   "source": [
    "# Inserindo os nomes das cidades e estados\n",
    "df = pd.read_csv('data/log.csv')\n",
    "municipios = pd.read_csv('data/codigo_municipio.csv')\n",
    "municipios['codigo'] = municipios['codigo'].astype(object)\n",
    "df = pd.merge(df, municipios, how='left', left_on='cod_ibge_municipio', right_on='codigo')\n",
    "\n",
    "estados = pd.read_csv('data/codigo_estado.csv')\n",
    "estados['codigo'] = estados['codigo'].astype(object)\n",
    "df = pd.merge(df, estados, how='left', left_on='cod_ibge_estado', right_on='codigo')\n",
    "\n",
    "\n",
    "df = df[['filename', 'data', 'municipio', 'estado', 'remedio', 'texto']]"
   ]
  },
  {
   "cell_type": "markdown",
   "metadata": {},
   "source": [
    "# Filtro palavras \"COVID\", \"CORONA\", \"PANDEMIA\""
   ]
  },
  {
   "cell_type": "code",
   "execution_count": 2,
   "metadata": {},
   "outputs": [],
   "source": [
    "df = pd.read_csv('data/log.csv')"
   ]
  },
  {
   "cell_type": "code",
   "execution_count": 5,
   "metadata": {},
   "outputs": [
    {
     "data": {
      "text/plain": [
       "(305, 6)"
      ]
     },
     "execution_count": 5,
     "metadata": {},
     "output_type": "execute_result"
    }
   ],
   "source": [
    "df = df[df['texto'].str.contains('COVID') | df['texto'].str.contains('CORONA') | df['texto'].str.contains('PANDEMIA')].reset_index(drop=True)\n",
    "df.shape"
   ]
  },
  {
   "cell_type": "code",
   "execution_count": 6,
   "metadata": {},
   "outputs": [],
   "source": [
    "df.to_csv('data/log.csv', index=False)"
   ]
  },
  {
   "cell_type": "markdown",
   "metadata": {},
   "source": [
    "# Criação de coluna CNPJ"
   ]
  },
  {
   "cell_type": "code",
   "execution_count": 12,
   "metadata": {},
   "outputs": [
    {
     "data": {
      "text/html": [
       "<div>\n",
       "<style scoped>\n",
       "    .dataframe tbody tr th:only-of-type {\n",
       "        vertical-align: middle;\n",
       "    }\n",
       "\n",
       "    .dataframe tbody tr th {\n",
       "        vertical-align: top;\n",
       "    }\n",
       "\n",
       "    .dataframe thead th {\n",
       "        text-align: right;\n",
       "    }\n",
       "</style>\n",
       "<table border=\"1\" class=\"dataframe\">\n",
       "  <thead>\n",
       "    <tr style=\"text-align: right;\">\n",
       "      <th></th>\n",
       "      <th>filename</th>\n",
       "      <th>data</th>\n",
       "      <th>municipio</th>\n",
       "      <th>estado</th>\n",
       "      <th>remedio</th>\n",
       "      <th>texto</th>\n",
       "    </tr>\n",
       "  </thead>\n",
       "  <tbody>\n",
       "    <tr>\n",
       "      <th>0</th>\n",
       "      <td>34c244786f1b1e03e403c53c62ad0053c3c9760c.txt</td>\n",
       "      <td>2020-06-22T13:03:53Z</td>\n",
       "      <td>Salvador</td>\n",
       "      <td>Bahia</td>\n",
       "      <td>ivermectina</td>\n",
       "      <td>JOSÉ EGÍDIO DE SANTANAPRESIDENTE/COPELDISPENSA...</td>\n",
       "    </tr>\n",
       "    <tr>\n",
       "      <th>1</th>\n",
       "      <td>260e14014a291f89ddb138945ce0fc4a90c6eb12.txt</td>\n",
       "      <td>2020-10-21T22:46:01Z</td>\n",
       "      <td>Teresina</td>\n",
       "      <td>Piauí</td>\n",
       "      <td>ivermectina</td>\n",
       "      <td>RA-TIFICO O ENTENDIMENTO EXPOSTO NO PARECER RE...</td>\n",
       "    </tr>\n",
       "    <tr>\n",
       "      <th>3</th>\n",
       "      <td>48754976b557ced1b37a97cd871741a8d5660b8b.txt</td>\n",
       "      <td>2020-11-05T19:55:59Z</td>\n",
       "      <td>Cuiaba</td>\n",
       "      <td>Mato Grosso</td>\n",
       "      <td>ivermectina</td>\n",
       "      <td>IRANIZO MATOS RODRIGUESPREGOEIROPORTARIA Nº 13...</td>\n",
       "    </tr>\n",
       "    <tr>\n",
       "      <th>6</th>\n",
       "      <td>d658afdb9eeec69b0c258f9e61175b2133dd72e6.txt</td>\n",
       "      <td>Não Informado</td>\n",
       "      <td>Cuiaba</td>\n",
       "      <td>Mato Grosso</td>\n",
       "      <td>ivermectina</td>\n",
       "      <td>022/2020EU, SR. ANTONIO DOMINGO RUFATTO, PREFE...</td>\n",
       "    </tr>\n",
       "    <tr>\n",
       "      <th>10</th>\n",
       "      <td>e1d35a11224b802bec0c4b53a7071f37f403e4a6.txt</td>\n",
       "      <td>2020-11-05T19:43:08Z</td>\n",
       "      <td>Cuiaba</td>\n",
       "      <td>Mato Grosso</td>\n",
       "      <td>ivermectina</td>\n",
       "      <td>SIDINEI CUSTÓDIO DA SILVAPREFEITO MUNICIPAL PR...</td>\n",
       "    </tr>\n",
       "  </tbody>\n",
       "</table>\n",
       "</div>"
      ],
      "text/plain": [
       "                                        filename                  data  \\\n",
       "0   34c244786f1b1e03e403c53c62ad0053c3c9760c.txt  2020-06-22T13:03:53Z   \n",
       "1   260e14014a291f89ddb138945ce0fc4a90c6eb12.txt  2020-10-21T22:46:01Z   \n",
       "3   48754976b557ced1b37a97cd871741a8d5660b8b.txt  2020-11-05T19:55:59Z   \n",
       "6   d658afdb9eeec69b0c258f9e61175b2133dd72e6.txt         Não Informado   \n",
       "10  e1d35a11224b802bec0c4b53a7071f37f403e4a6.txt  2020-11-05T19:43:08Z   \n",
       "\n",
       "   municipio       estado      remedio  \\\n",
       "0   Salvador        Bahia  ivermectina   \n",
       "1   Teresina        Piauí  ivermectina   \n",
       "3     Cuiaba  Mato Grosso  ivermectina   \n",
       "6     Cuiaba  Mato Grosso  ivermectina   \n",
       "10    Cuiaba  Mato Grosso  ivermectina   \n",
       "\n",
       "                                                texto  \n",
       "0   JOSÉ EGÍDIO DE SANTANAPRESIDENTE/COPELDISPENSA...  \n",
       "1   RA-TIFICO O ENTENDIMENTO EXPOSTO NO PARECER RE...  \n",
       "3   IRANIZO MATOS RODRIGUESPREGOEIROPORTARIA Nº 13...  \n",
       "6   022/2020EU, SR. ANTONIO DOMINGO RUFATTO, PREFE...  \n",
       "10  SIDINEI CUSTÓDIO DA SILVAPREFEITO MUNICIPAL PR...  "
      ]
     },
     "execution_count": 12,
     "metadata": {},
     "output_type": "execute_result"
    }
   ],
   "source": [
    "df[df['texto'].str.contains('CNPJ')].head()"
   ]
  },
  {
   "cell_type": "code",
   "execution_count": 20,
   "metadata": {},
   "outputs": [],
   "source": [
    "df['cnpj'] = df['texto'].str.extract('(\\d{2}.\\d{3}.\\d{3}.\\d{4}.\\d{2})')"
   ]
  },
  {
   "cell_type": "code",
   "execution_count": 21,
   "metadata": {},
   "outputs": [
    {
     "data": {
      "text/html": [
       "<div>\n",
       "<style scoped>\n",
       "    .dataframe tbody tr th:only-of-type {\n",
       "        vertical-align: middle;\n",
       "    }\n",
       "\n",
       "    .dataframe tbody tr th {\n",
       "        vertical-align: top;\n",
       "    }\n",
       "\n",
       "    .dataframe thead th {\n",
       "        text-align: right;\n",
       "    }\n",
       "</style>\n",
       "<table border=\"1\" class=\"dataframe\">\n",
       "  <thead>\n",
       "    <tr style=\"text-align: right;\">\n",
       "      <th></th>\n",
       "      <th>filename</th>\n",
       "      <th>data</th>\n",
       "      <th>municipio</th>\n",
       "      <th>estado</th>\n",
       "      <th>remedio</th>\n",
       "      <th>texto</th>\n",
       "      <th>cnpj</th>\n",
       "    </tr>\n",
       "  </thead>\n",
       "  <tbody>\n",
       "    <tr>\n",
       "      <th>0</th>\n",
       "      <td>34c244786f1b1e03e403c53c62ad0053c3c9760c.txt</td>\n",
       "      <td>2020-06-22T13:03:53Z</td>\n",
       "      <td>Salvador</td>\n",
       "      <td>Bahia</td>\n",
       "      <td>ivermectina</td>\n",
       "      <td>JOSÉ EGÍDIO DE SANTANAPRESIDENTE/COPELDISPENSA...</td>\n",
       "      <td>04.162.170/0001-23</td>\n",
       "    </tr>\n",
       "    <tr>\n",
       "      <th>1</th>\n",
       "      <td>260e14014a291f89ddb138945ce0fc4a90c6eb12.txt</td>\n",
       "      <td>2020-10-21T22:46:01Z</td>\n",
       "      <td>Teresina</td>\n",
       "      <td>Piauí</td>\n",
       "      <td>ivermectina</td>\n",
       "      <td>RA-TIFICO O ENTENDIMENTO EXPOSTO NO PARECER RE...</td>\n",
       "      <td>08.306.438/0001-04</td>\n",
       "    </tr>\n",
       "    <tr>\n",
       "      <th>2</th>\n",
       "      <td>dfb37f9fcf2e1ffca6a6e49dc8a7a6ef0fafca1a.txt</td>\n",
       "      <td>2020-12-10T00:04:06Z</td>\n",
       "      <td>Manaus</td>\n",
       "      <td>Amazonas</td>\n",
       "      <td>ivermectina</td>\n",
       "      <td>DISPENSO O PROCEDIMENTO LICITATÓRIO, COM BASE ...</td>\n",
       "      <td>NaN</td>\n",
       "    </tr>\n",
       "    <tr>\n",
       "      <th>3</th>\n",
       "      <td>48754976b557ced1b37a97cd871741a8d5660b8b.txt</td>\n",
       "      <td>2020-11-05T19:55:59Z</td>\n",
       "      <td>Cuiaba</td>\n",
       "      <td>Mato Grosso</td>\n",
       "      <td>ivermectina</td>\n",
       "      <td>IRANIZO MATOS RODRIGUESPREGOEIROPORTARIA Nº 13...</td>\n",
       "      <td>84.551.191/0001-70</td>\n",
       "    </tr>\n",
       "    <tr>\n",
       "      <th>4</th>\n",
       "      <td>d658afdb9eeec69b0c258f9e61175b2133dd72e6.txt</td>\n",
       "      <td>2020-11-05T19:40:20Z</td>\n",
       "      <td>Cuiaba</td>\n",
       "      <td>Mato Grosso</td>\n",
       "      <td>ivermectina</td>\n",
       "      <td>ANKE HELGA SCHWABE, NO USO DE SUAS ATRIBUIÇÕES...</td>\n",
       "      <td>NaN</td>\n",
       "    </tr>\n",
       "  </tbody>\n",
       "</table>\n",
       "</div>"
      ],
      "text/plain": [
       "                                       filename                  data  \\\n",
       "0  34c244786f1b1e03e403c53c62ad0053c3c9760c.txt  2020-06-22T13:03:53Z   \n",
       "1  260e14014a291f89ddb138945ce0fc4a90c6eb12.txt  2020-10-21T22:46:01Z   \n",
       "2  dfb37f9fcf2e1ffca6a6e49dc8a7a6ef0fafca1a.txt  2020-12-10T00:04:06Z   \n",
       "3  48754976b557ced1b37a97cd871741a8d5660b8b.txt  2020-11-05T19:55:59Z   \n",
       "4  d658afdb9eeec69b0c258f9e61175b2133dd72e6.txt  2020-11-05T19:40:20Z   \n",
       "\n",
       "  municipio       estado      remedio  \\\n",
       "0  Salvador        Bahia  ivermectina   \n",
       "1  Teresina        Piauí  ivermectina   \n",
       "2    Manaus     Amazonas  ivermectina   \n",
       "3    Cuiaba  Mato Grosso  ivermectina   \n",
       "4    Cuiaba  Mato Grosso  ivermectina   \n",
       "\n",
       "                                               texto                cnpj  \n",
       "0  JOSÉ EGÍDIO DE SANTANAPRESIDENTE/COPELDISPENSA...  04.162.170/0001-23  \n",
       "1  RA-TIFICO O ENTENDIMENTO EXPOSTO NO PARECER RE...  08.306.438/0001-04  \n",
       "2  DISPENSO O PROCEDIMENTO LICITATÓRIO, COM BASE ...                 NaN  \n",
       "3  IRANIZO MATOS RODRIGUESPREGOEIROPORTARIA Nº 13...  84.551.191/0001-70  \n",
       "4  ANKE HELGA SCHWABE, NO USO DE SUAS ATRIBUIÇÕES...                 NaN  "
      ]
     },
     "execution_count": 21,
     "metadata": {},
     "output_type": "execute_result"
    }
   ],
   "source": [
    "df.head()"
   ]
  },
  {
   "cell_type": "code",
   "execution_count": 22,
   "metadata": {},
   "outputs": [],
   "source": [
    "df.to_csv('data/log.csv', index=False)"
   ]
  }
 ],
 "metadata": {
  "interpreter": {
   "hash": "0e77d2c488c6c33ff258297a40c0630c6f7a04ffe182702a2024da22539e74c5"
  },
  "kernelspec": {
   "display_name": "Python 3.10.1 64-bit ('.venv': venv)",
   "language": "python",
   "name": "python3"
  },
  "language_info": {
   "codemirror_mode": {
    "name": "ipython",
    "version": 3
   },
   "file_extension": ".py",
   "mimetype": "text/x-python",
   "name": "python",
   "nbconvert_exporter": "python",
   "pygments_lexer": "ipython3",
   "version": "3.10.1"
  },
  "orig_nbformat": 4
 },
 "nbformat": 4,
 "nbformat_minor": 2
}
